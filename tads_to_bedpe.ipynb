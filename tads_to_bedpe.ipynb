{
 "cells": [
  {
   "cell_type": "markdown",
   "id": "7012a58d",
   "metadata": {},
   "source": [
    "This script loads *_tads.csv files made by Kacper and compress them into .bedpe file to be feeded to the jusier\n",
    "\n",
    "Change folder_path if needed"
   ]
  },
  {
   "cell_type": "code",
   "execution_count": 25,
   "id": "afeb1df0",
   "metadata": {},
   "outputs": [],
   "source": [
    "import os\n",
    "import glob\n",
    "import pandas as pd\n",
    "\n",
    "# Define the path to the folder containing the CSV files\n",
    "folder_path = \"intermediates/\"\n",
    "\n",
    "# Retrieves all files ending with '_tads.csv' in the specified folder\n",
    "files = glob.glob(folder_path + \"*_tads.csv\")\n",
    "\n",
    "# Initialize an empty dictionary to store DataFrames for each category\n",
    "category_dfs = {}\n",
    "\n",
    "# Iterate through each file\n",
    "for file in files:\n",
    "    # Extract category name from the file name\n",
    "    category = file.split('/')[-1].split('_')[0]  # Assuming Unix-like path separator '/'\n",
    "    \n",
    "    # Load the CSV file into a Pandas DataFrame\n",
    "    df = pd.read_csv(file)\n",
    "    \n",
    "    # Skip if DataFrame is empty\n",
    "    if len(df) < 1:\n",
    "        continue\n",
    "    \n",
    "    # Extract characters before \"_\" from the 'community' column and create a new column 'extracted_characters'\n",
    "    extracted_characters = df['community'].str.split('_').str[0]\n",
    "    \n",
    "    # Create a new DataFrame with desired columns\n",
    "    new_df = pd.DataFrame({\n",
    "        'CHR1': extracted_characters,\n",
    "        'X1': df['start'],\n",
    "        'X2': df['end'],\n",
    "        'CHR2': extracted_characters,\n",
    "        'Y1': df['start'],\n",
    "        'Y2': df['end']\n",
    "    })\n",
    "\n",
    "    # Check if the category already exists in the dictionary\n",
    "    if category in category_dfs:\n",
    "        # Append the new DataFrame to the existing category DataFrame\n",
    "        category_dfs[category] = pd.concat([category_dfs[category], new_df], ignore_index=True)\n",
    "    else:\n",
    "        # Create a new entry in the dictionary for the category DataFrame\n",
    "        category_dfs[category] = new_df\n",
    "\n",
    "\n",
    "# Create the output folder if it doesn't exist\n",
    "output_folder = \"output\"\n",
    "if not os.path.exists(output_folder):\n",
    "    os.makedirs(output_folder)\n",
    "        \n",
    "# Save each category DataFrame to a separate file\n",
    "for category, df in category_dfs.items():\n",
    "    df.to_csv(f\"output/{category}_merged_output.bedpe\", sep='\\t', index=False)"
   ]
  },
  {
   "cell_type": "code",
   "execution_count": null,
   "id": "11c466ae",
   "metadata": {},
   "outputs": [],
   "source": []
  },
  {
   "cell_type": "code",
   "execution_count": null,
   "id": "7ba7a318",
   "metadata": {},
   "outputs": [],
   "source": []
  }
 ],
 "metadata": {
  "kernelspec": {
   "display_name": "Python 3 (ipykernel)",
   "language": "python",
   "name": "python3"
  },
  "language_info": {
   "codemirror_mode": {
    "name": "ipython",
    "version": 3
   },
   "file_extension": ".py",
   "mimetype": "text/x-python",
   "name": "python",
   "nbconvert_exporter": "python",
   "pygments_lexer": "ipython3",
   "version": "3.9.1"
  }
 },
 "nbformat": 4,
 "nbformat_minor": 5
}
