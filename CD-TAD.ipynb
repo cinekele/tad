{
 "cells": [
  {
   "cell_type": "markdown",
   "id": "81d843ab",
   "metadata": {},
   "source": [
    "# Computational Genomics - Project 2\n",
    "# Our solution - detection of TADs\n",
    "## Authors: Kacper Grzymkowski, Mikołaj Malec, Piotr Marciniak"
   ]
  },
  {
   "cell_type": "code",
   "execution_count": 1,
   "id": "66a94ae5-647f-445b-8279-7bf8af5e3819",
   "metadata": {},
   "outputs": [],
   "source": [
    "import hicstraw\n",
    "import matplotlib.pyplot as plt\n",
    "import networkx as nx\n",
    "import pandas as pd\n",
    "import numpy as np"
   ]
  },
  {
   "cell_type": "code",
   "execution_count": 2,
   "id": "d4d1ff8c-6b87-4dd8-9b97-3304b1254124",
   "metadata": {},
   "outputs": [],
   "source": [
    "stuff = [\"1\", \"2\", \"3\", \"4\", \"5\", \"6\", \"7\", \"8\", \"9\", \"10\",\n",
    " \"11\", \"12\", \"13\", \"14\", \"15\", \"16\", \"17\", \"18\", \"19\", \"20\",\n",
    " \"21\", \"22\", \"X\"]"
   ]
  },
  {
   "cell_type": "code",
   "execution_count": 3,
   "id": "bd8f874e-a093-471c-a32e-d43a866c8440",
   "metadata": {},
   "outputs": [],
   "source": [
    "# Settings for rest\n",
    "MAX_JUMP_BINS = 50\n",
    "TAD_SIZE_MIN_INTERACTIONS = 50\n",
    "BIN_SIZE = 5000"
   ]
  },
  {
   "cell_type": "code",
   "execution_count": 4,
   "id": "1c5292fd-cfe1-4f35-a059-9a8f3f3fa796",
   "metadata": {},
   "outputs": [],
   "source": [
    "def cd_tad(data, threshold=0):\n",
    "    df_list = []\n",
    "    for chr in data.getChromosomes():\n",
    "        if chr.name in stuff:\n",
    "            print(f\"Processing chr{chr.name}\")\n",
    "            mzd = data.getMatrixZoomData(chr.name, chr.name, \"observed\", \"NONE\", \"BP\", 5000)\n",
    "            record_list = mzd.getRecords(0, chr.length, 0, chr.length)\n",
    "            g = nx.Graph()\n",
    "            g.add_weighted_edges_from([(r.binX, r.binY, r.counts) for r in record_list if r.counts > threshold])\n",
    "            comms = nx.community.louvain_communities(g)\n",
    "            lod = [\n",
    "                {\"chr\":chr.name, \"bin\": bin, \"community\": f\"{chr.name}_{comm_i}\"}\n",
    "                for comm_i, comm in enumerate(comms)\n",
    "                for bin in comm \n",
    "            ]\n",
    "            df = pd.DataFrame(lod)\n",
    "            df_list.append(df)\n",
    "    return pd.concat(df_list).reset_index()"
   ]
  },
  {
   "cell_type": "code",
   "execution_count": 5,
   "id": "5734aba8-c3e0-464b-9e30-a5a463c58b99",
   "metadata": {},
   "outputs": [],
   "source": [
    "def trim_communities_to_tads_window(df):\n",
    "    df.loc[:, \"tad\"] = -1\n",
    "    if len(df) < 10:\n",
    "        return df\n",
    "    df = df.sort_values(\"bin\").reset_index(drop=True)\n",
    "    gradient = np.gradient(df[\"bin\"])/BIN_SIZE\n",
    "    jumps, = np.where(gradient > MAX_JUMP_BINS)\n",
    "    for i, (start, end) in enumerate(zip(jumps[:-1], jumps[1:])):\n",
    "        if len(df.loc[start:end, \"tad\"]) > TAD_SIZE_MIN_INTERACTIONS:\n",
    "            df.loc[start:end, \"tad\"] = i\n",
    "    return df"
   ]
  },
  {
   "cell_type": "code",
   "execution_count": 6,
   "id": "eacb8bb8-7d6f-463d-b851-b5cbd5341da2",
   "metadata": {},
   "outputs": [],
   "source": [
    "def trim_communities_to_tads(df):\n",
    "    df.loc[:, \"tad\"] = -1\n",
    "    if len(df) < 10:\n",
    "        return pd.DataFrame({\"start\": [], \"end\": []})\n",
    "    df = df.sort_values(\"bin\").reset_index(drop=True)\n",
    "    gradient = np.gradient(df[\"bin\"])/BIN_SIZE\n",
    "    jumps, = np.where(gradient > MAX_JUMP_BINS)\n",
    "    tad_list = []\n",
    "    for i, (start, end) in enumerate(zip(jumps[:-1], jumps[1:])):\n",
    "        if len(df.loc[start:end, \"tad\"]) > TAD_SIZE_MIN_INTERACTIONS:\n",
    "            tad_list.append({\"start\": df.loc[start, \"bin\"], \"end\": df.loc[end, \"bin\"]})\n",
    "    return pd.DataFrame(tad_list)"
   ]
  },
  {
   "cell_type": "code",
   "execution_count": 7,
   "id": "10bd55a8-5d73-44b0-8e76-c799f666fc0a",
   "metadata": {},
   "outputs": [],
   "source": [
    "def process(name):\n",
    "    data_hic = hicstraw.HiCFile(f\"data/{name}.hic\")\n",
    "    df = cd_tad(data_hic)\n",
    "    df.to_csv(f\"data/intermediates/{name}_CD.csv\")\n",
    "    df.groupby(\"community\").apply(trim_communities_to_tads_window, include_groups=False).to_csv(f\"data/intermediates/{name}_CD_window.csv\")\n",
    "    df.groupby(\"community\").apply(trim_communities_to_tads, include_groups=False).to_csv(f\"data/intermediates/{name}_CD_tads.csv\")"
   ]
  },
  {
   "cell_type": "code",
   "execution_count": 8,
   "id": "16232115-64d9-4371-9002-9e960eb922af",
   "metadata": {},
   "outputs": [
    {
     "name": "stdout",
     "output_type": "stream",
     "text": [
      "Processing chr1\n",
      "Processing chr2\n",
      "Processing chr3\n",
      "Processing chr4\n",
      "Processing chr5\n",
      "Processing chr6\n",
      "Processing chr7\n",
      "Processing chr8\n",
      "Processing chr9\n",
      "Processing chr10\n",
      "Processing chr11\n",
      "Processing chr12\n",
      "Processing chr13\n",
      "Processing chr14\n",
      "Processing chr15\n",
      "Processing chr16\n",
      "Processing chr17\n",
      "Processing chr18\n",
      "Processing chr19\n",
      "Processing chr20\n",
      "Processing chr21\n",
      "Processing chr22\n",
      "Processing chrX\n",
      "CPU times: user 1min 52s, sys: 333 ms, total: 1min 52s\n",
      "Wall time: 1min 52s\n"
     ]
    }
   ],
   "source": [
    "%%time\n",
    "process(\"GM12878\")"
   ]
  },
  {
   "cell_type": "code",
   "execution_count": 9,
   "id": "6e31bd4e-1178-496b-aebd-17344c5ff5b7",
   "metadata": {},
   "outputs": [
    {
     "name": "stdout",
     "output_type": "stream",
     "text": [
      "Processing chr1\n",
      "Processing chr2\n",
      "Processing chr3\n",
      "Processing chr4\n",
      "Processing chr5\n",
      "Processing chr6\n",
      "Processing chr7\n",
      "Processing chr8\n",
      "Processing chr9\n",
      "Processing chr10\n",
      "Processing chr11\n",
      "Processing chr12\n",
      "Processing chr13\n",
      "Processing chr14\n",
      "Processing chr15\n",
      "Processing chr16\n",
      "Processing chr17\n",
      "Processing chr18\n",
      "Processing chr19\n",
      "Processing chr20\n",
      "Processing chr21\n",
      "Processing chr22\n",
      "Processing chrX\n",
      "CPU times: user 4min 8s, sys: 580 ms, total: 4min 9s\n",
      "Wall time: 4min 9s\n"
     ]
    }
   ],
   "source": [
    "%%time\n",
    "process(\"ENCFF629KXF\")"
   ]
  },
  {
   "cell_type": "code",
   "execution_count": 10,
   "id": "32dafa13-7718-45cb-a69d-7a02387a2be4",
   "metadata": {},
   "outputs": [],
   "source": [
    "def process_one_at_time(name, threshold=0):\n",
    "    data = hicstraw.HiCFile(f\"data/{name}.hic\")\n",
    "    for chr in data.getChromosomes():\n",
    "        if chr.name in stuff:\n",
    "            print(f\"Processing chr{chr.name}\")\n",
    "            mzd = data.getMatrixZoomData(chr.name, chr.name, \"observed\", \"NONE\", \"BP\", BIN_SIZE)\n",
    "            record_list = mzd.getRecords(0, chr.length, 0, chr.length)\n",
    "            print(f\"Loaded records\", end='\\r')\n",
    "            g = nx.Graph()\n",
    "            g.add_weighted_edges_from([(r.binX, r.binY, r.counts) for r in record_list if r.counts > threshold])\n",
    "            del record_list\n",
    "            print(f\"Loaded graph\", end='\\r')\n",
    "            comms = nx.community.louvain_communities(g)\n",
    "            del g\n",
    "            lod = [\n",
    "                {\"chr\":chr.name, \"bin\": bin, \"community\": f\"{chr.name}_{comm_i}\"}\n",
    "                for comm_i, comm in enumerate(comms)\n",
    "                for bin in comm \n",
    "            ]\n",
    "            print(f\"CD done\", end='\\r')\n",
    "            df = pd.DataFrame(lod)\n",
    "            del lod\n",
    "            df.to_csv(f\"data/intermediates/{name}_chr{chr.name}_CD.csv\")\n",
    "            df.groupby(\"community\").apply(trim_communities_to_tads_window, include_groups=False).to_csv(f\"data/intermediates/{name}_{chr.name}_CD_window.csv\")\n",
    "            df.groupby(\"community\").apply(trim_communities_to_tads, include_groups=False).to_csv(f\"data/intermediates/{name}_chr{chr.name}CD_tads.csv\")"
   ]
  },
  {
   "cell_type": "code",
   "execution_count": 11,
   "id": "992a6712-7a22-4b4c-a1ac-ce0ba12d6822",
   "metadata": {},
   "outputs": [
    {
     "name": "stdout",
     "output_type": "stream",
     "text": [
      "Processing chr1\n",
      "Processing chr2\n",
      "Processing chr3\n",
      "Processing chr4\n",
      "Processing chr5\n",
      "Processing chr6\n",
      "Processing chr7\n",
      "Processing chr8\n",
      "Processing chr9\n",
      "Processing chr10\n",
      "Processing chr11\n",
      "Processing chr12\n",
      "Processing chr13\n",
      "Processing chr14\n",
      "Processing chr15\n",
      "Processing chr16\n",
      "Processing chr17\n",
      "Processing chr18\n",
      "Processing chr19\n",
      "Processing chr20\n",
      "Processing chr21\n",
      "Processing chr22\n",
      "Processing chrX\n",
      "CPU times: user 31min 46s, sys: 7.83 s, total: 31min 53s\n",
      "Wall time: 31min 53s\n"
     ]
    }
   ],
   "source": [
    "%%time\n",
    "process_one_at_time(\"inter_30\")"
   ]
  },
  {
   "cell_type": "code",
   "execution_count": 12,
   "id": "4377cf6f-9246-44dc-b5ad-d05025de8a0d",
   "metadata": {},
   "outputs": [],
   "source": [
    "# Settings for the big boy\n",
    "MAX_JUMP_BINS = 10\n",
    "TAD_SIZE_MIN_INTERACTIONS = 10\n",
    "BIN_SIZE = 25000"
   ]
  },
  {
   "cell_type": "code",
   "execution_count": 13,
   "id": "03506d4f-493e-43af-a3eb-e619f70e6610",
   "metadata": {},
   "outputs": [
    {
     "name": "stdout",
     "output_type": "stream",
     "text": [
      "Processing chr1\n",
      "Processing chr2\n",
      "Processing chr3\n",
      "Processing chr4\n",
      "Processing chr5\n",
      "Processing chr6\n",
      "Processing chr7\n",
      "Processing chr8\n",
      "Processing chr9\n",
      "Processing chr10\n",
      "Processing chr11\n",
      "Processing chr12\n",
      "Processing chr13\n",
      "Processing chr14\n",
      "Processing chr15\n",
      "Processing chr16\n",
      "Processing chr17\n",
      "Processing chr18\n",
      "Processing chr19\n",
      "Processing chr20\n",
      "Processing chr21\n",
      "Processing chr22\n",
      "Processing chrX\n",
      "CPU times: user 1h 16min 24s, sys: 23.8 s, total: 1h 16min 48s\n",
      "Wall time: 1h 16min 48s\n"
     ]
    }
   ],
   "source": [
    "%%time\n",
    "process_one_at_time(\"4DNFI1UEG1HD\")"
   ]
  },
  {
   "cell_type": "code",
   "execution_count": null,
   "id": "bb6de3ab-6b5d-467b-9d70-eb4da6398641",
   "metadata": {},
   "outputs": [],
   "source": []
  }
 ],
 "metadata": {
  "kernelspec": {
   "display_name": "Python 3 (ipykernel)",
   "language": "python",
   "name": "python3"
  },
  "language_info": {
   "codemirror_mode": {
    "name": "ipython",
    "version": 3
   },
   "file_extension": ".py",
   "mimetype": "text/x-python",
   "name": "python",
   "nbconvert_exporter": "python",
   "pygments_lexer": "ipython3",
   "version": "3.11.8"
  }
 },
 "nbformat": 4,
 "nbformat_minor": 5
}
